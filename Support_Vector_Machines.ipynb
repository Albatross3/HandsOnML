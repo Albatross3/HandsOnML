{
  "nbformat": 4,
  "nbformat_minor": 0,
  "metadata": {
    "colab": {
      "name": "Support Vector Machines.ipynb",
      "provenance": [],
      "collapsed_sections": []
    },
    "kernelspec": {
      "name": "python3",
      "display_name": "Python 3"
    },
    "language_info": {
      "name": "python"
    }
  },
  "cells": [
    {
      "cell_type": "markdown",
      "metadata": {
        "id": "169KpsN5NEIb"
      },
      "source": [
        "## Linear SVM classification\n",
        "\n",
        "*   hard margin classification\n",
        "*   soft margin classification -> margin 크기 ***vs***  violation (hyper parameter C를 이용해 조정한다)\n",
        "\n"
      ]
    },
    {
      "cell_type": "code",
      "metadata": {
        "id": "nFUm38CgBN9d"
      },
      "source": [
        "import numpy as np\n",
        "from sklearn import datasets\n",
        "from sklearn.pipeline import Pipeline\n",
        "from sklearn.preprocessing import StandardScaler\n",
        "from sklearn.svm import LinearSVC"
      ],
      "execution_count": 22,
      "outputs": []
    },
    {
      "cell_type": "code",
      "metadata": {
        "colab": {
          "base_uri": "https://localhost:8080/"
        },
        "id": "Sr09qpFcFzgn",
        "outputId": "e80315ce-ccad-4848-d761-ff626eafdf86"
      },
      "source": [
        "iris=datasets.load_iris()\n",
        "X=iris['data'][:,(2,3)]\n",
        "y=(iris['target']==2).astype(np.float64) # virginica class만 1로 나머지는 0으로 바꾸어준다\n",
        "\n",
        "svm_clf=Pipeline([\n",
        "                  (\"scalar\",StandardScaler()),\n",
        "                  (\"linear_svc\",LinearSVC(C=1, loss=\"hinge\"))\n",
        "])\n",
        "\n",
        "svm_clf.fit(X,y)"
      ],
      "execution_count": 23,
      "outputs": [
        {
          "output_type": "execute_result",
          "data": {
            "text/plain": [
              "Pipeline(memory=None,\n",
              "         steps=[('scalar',\n",
              "                 StandardScaler(copy=True, with_mean=True, with_std=True)),\n",
              "                ('linear_svc',\n",
              "                 LinearSVC(C=1, class_weight=None, dual=True,\n",
              "                           fit_intercept=True, intercept_scaling=1,\n",
              "                           loss='hinge', max_iter=1000, multi_class='ovr',\n",
              "                           penalty='l2', random_state=None, tol=0.0001,\n",
              "                           verbose=0))],\n",
              "         verbose=False)"
            ]
          },
          "metadata": {},
          "execution_count": 23
        }
      ]
    },
    {
      "cell_type": "code",
      "metadata": {
        "colab": {
          "base_uri": "https://localhost:8080/"
        },
        "id": "swcON_9MGJTX",
        "outputId": "f8d52069-f1e2-42a1-8ca0-374bdfe2c55e"
      },
      "source": [
        "svm_clf.predict([[5.5,1.7]])"
      ],
      "execution_count": 24,
      "outputs": [
        {
          "output_type": "execute_result",
          "data": {
            "text/plain": [
              "array([1.])"
            ]
          },
          "metadata": {},
          "execution_count": 24
        }
      ]
    },
    {
      "cell_type": "markdown",
      "metadata": {
        "id": "x74B6iFYTDuz"
      },
      "source": [
        "## Nonlinear SVM Classification\n",
        "\n",
        "여러가지 접근 방법\n",
        "1. add polynomial features\n",
        "*   add more features -> 문제점: degree가 커질 때 feature의 양이 크게 증가한다(combinational explosion)\n",
        "*  위 문제점을 해결하기 위해 kernel trick 도입\n",
        "\n"
      ]
    },
    {
      "cell_type": "markdown",
      "metadata": {
        "id": "896NLzR6UCUV"
      },
      "source": [
        "### Using polynomial features"
      ]
    },
    {
      "cell_type": "code",
      "metadata": {
        "colab": {
          "base_uri": "https://localhost:8080/"
        },
        "id": "TXfhqPY2IzHV",
        "outputId": "dc6cbd6f-a42e-4beb-ca49-ac622117ffc8"
      },
      "source": [
        "from sklearn.datasets import make_moons\n",
        "from sklearn.preprocessing import PolynomialFeatures\n",
        "\n",
        "X,y=make_moons(n_samples=100, noise=0.15)\n",
        "polynomial_svm_clf=Pipeline([\n",
        "                             (\"poly_features\",PolynomialFeatures(degree=1)),\n",
        "                             (\"scaler\",StandardScaler()),\n",
        "                             (\"svm_clf\",LinearSVC(C=10,loss='hinge'))\n",
        "])\n",
        "\n",
        "polynomial_svm_clf.fit(X,y)"
      ],
      "execution_count": 25,
      "outputs": [
        {
          "output_type": "execute_result",
          "data": {
            "text/plain": [
              "Pipeline(memory=None,\n",
              "         steps=[('poly_features',\n",
              "                 PolynomialFeatures(degree=1, include_bias=True,\n",
              "                                    interaction_only=False, order='C')),\n",
              "                ('scaler',\n",
              "                 StandardScaler(copy=True, with_mean=True, with_std=True)),\n",
              "                ('svm_clf',\n",
              "                 LinearSVC(C=10, class_weight=None, dual=True,\n",
              "                           fit_intercept=True, intercept_scaling=1,\n",
              "                           loss='hinge', max_iter=1000, multi_class='ovr',\n",
              "                           penalty='l2', random_state=None, tol=0.0001,\n",
              "                           verbose=0))],\n",
              "         verbose=False)"
            ]
          },
          "metadata": {},
          "execution_count": 25
        }
      ]
    },
    {
      "cell_type": "markdown",
      "metadata": {
        "id": "D81KzRWHUKcF"
      },
      "source": [
        "### Polynomial kernel"
      ]
    },
    {
      "cell_type": "code",
      "metadata": {
        "colab": {
          "base_uri": "https://localhost:8080/"
        },
        "id": "afqPhhAGPoVz",
        "outputId": "f2551aac-2196-4c79-c680-f83461c778d1"
      },
      "source": [
        "from sklearn.svm import SVC\n",
        "poly_kernel_svm_clf=Pipeline([\n",
        "                              ('scaler',StandardScaler()),\n",
        "                              ('svm_clf',SVC(kernel=\"poly\",degree=3, coef0=1,C=5))\n",
        "])\n",
        "poly_kernel_svm_clf.fit(X,y)"
      ],
      "execution_count": 27,
      "outputs": [
        {
          "output_type": "execute_result",
          "data": {
            "text/plain": [
              "Pipeline(memory=None,\n",
              "         steps=[('scaler',\n",
              "                 StandardScaler(copy=True, with_mean=True, with_std=True)),\n",
              "                ('svm_clf',\n",
              "                 SVC(C=5, break_ties=False, cache_size=200, class_weight=None,\n",
              "                     coef0=1, decision_function_shape='ovr', degree=3,\n",
              "                     gamma='scale', kernel='poly', max_iter=-1,\n",
              "                     probability=False, random_state=None, shrinking=True,\n",
              "                     tol=0.001, verbose=False))],\n",
              "         verbose=False)"
            ]
          },
          "metadata": {},
          "execution_count": 27
        }
      ]
    },
    {
      "cell_type": "markdown",
      "metadata": {
        "id": "xcTlWo9CbnZS"
      },
      "source": [
        "## Nonlinear SVM Classification\n",
        "여러가지 접근 방법\n",
        "2. add features computed using a similarity function\n",
        "\n",
        "\n",
        "*   Similarity features( 기준에 대해서 얼마나 유사한지를 보여주는 함수 이용함) ->문제점:너무 많은 feature의 생성 가능성\n",
        "*   위 문제 해결을 위한 Gaussian RBF Kernel 도입\n",
        "\n",
        "\n"
      ]
    },
    {
      "cell_type": "markdown",
      "metadata": {
        "id": "vwwqQ2W4UOuX"
      },
      "source": [
        "### Gaussian RBF kernel"
      ]
    },
    {
      "cell_type": "code",
      "metadata": {
        "colab": {
          "base_uri": "https://localhost:8080/"
        },
        "id": "Fci8_z7USLQ2",
        "outputId": "e8b33c1a-3c26-4e84-f532-e13f78315b9c"
      },
      "source": [
        "rbf_kernel_svm_clf=Pipeline([\n",
        "                             ('scaler',StandardScaler()),\n",
        "                             ('svm_clf',SVC(kernel='rbf',gamma=5, C=0.001))\n",
        "])\n",
        "rbf_kernel_svm_clf.fit(X,y)"
      ],
      "execution_count": 28,
      "outputs": [
        {
          "output_type": "execute_result",
          "data": {
            "text/plain": [
              "Pipeline(memory=None,\n",
              "         steps=[('scaler',\n",
              "                 StandardScaler(copy=True, with_mean=True, with_std=True)),\n",
              "                ('svm_clf',\n",
              "                 SVC(C=0.001, break_ties=False, cache_size=200,\n",
              "                     class_weight=None, coef0=0.0,\n",
              "                     decision_function_shape='ovr', degree=3, gamma=5,\n",
              "                     kernel='rbf', max_iter=-1, probability=False,\n",
              "                     random_state=None, shrinking=True, tol=0.001,\n",
              "                     verbose=False))],\n",
              "         verbose=False)"
            ]
          },
          "metadata": {},
          "execution_count": 28
        }
      ]
    },
    {
      "cell_type": "code",
      "metadata": {
        "id": "8I1zjtc1dGcR"
      },
      "source": [
        ""
      ],
      "execution_count": null,
      "outputs": []
    }
  ]
}